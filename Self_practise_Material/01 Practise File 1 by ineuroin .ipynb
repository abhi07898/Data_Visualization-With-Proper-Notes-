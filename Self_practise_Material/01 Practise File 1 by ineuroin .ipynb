{
 "cells": [
  {
   "cell_type": "code",
   "execution_count": 2,
   "metadata": {},
   "outputs": [],
   "source": [
    "import pandas as pd \n",
    "import numpy as np"
   ]
  },
  {
   "cell_type": "code",
   "execution_count": 3,
   "metadata": {},
   "outputs": [],
   "source": [
    "wrangling = pd.read_csv('https://raw.githubusercontent.com/jackiekazil/data-wrangling/master/data/chp3/data-text.csv')"
   ]
  },
  {
   "cell_type": "code",
   "execution_count": 4,
   "metadata": {},
   "outputs": [],
   "source": [
    "weather_oldest = pd.read_csv('https://raw.githubusercontent.com/kjam/data-wrangling-pycon/master/data/berlin_weather_oldest.csv')"
   ]
  },
  {
   "cell_type": "code",
   "execution_count": 8,
   "metadata": {},
   "outputs": [
    {
     "name": "stdout",
     "output_type": "stream",
     "text": [
      "<class 'pandas.core.frame.DataFrame'>\n",
      "RangeIndex: 4656 entries, 0 to 4655\n",
      "Data columns (total 12 columns):\n",
      "Indicator                  4656 non-null object\n",
      "PUBLISH STATES             4656 non-null object\n",
      "Year                       4656 non-null int64\n",
      "WHO region                 4656 non-null object\n",
      "World Bank income group    4656 non-null object\n",
      "Country                    4656 non-null object\n",
      "Sex                        4656 non-null object\n",
      "Display Value              4656 non-null int64\n",
      "Numeric                    4656 non-null float64\n",
      "Low                        0 non-null float64\n",
      "High                       0 non-null float64\n",
      "Comments                   0 non-null float64\n",
      "dtypes: float64(4), int64(2), object(6)\n",
      "memory usage: 436.6+ KB\n"
     ]
    }
   ],
   "source": [
    "wrangling.info()"
   ]
  },
  {
   "cell_type": "code",
   "execution_count": 5,
   "metadata": {},
   "outputs": [
    {
     "data": {
      "text/html": [
       "<div>\n",
       "<style scoped>\n",
       "    .dataframe tbody tr th:only-of-type {\n",
       "        vertical-align: middle;\n",
       "    }\n",
       "\n",
       "    .dataframe tbody tr th {\n",
       "        vertical-align: top;\n",
       "    }\n",
       "\n",
       "    .dataframe thead th {\n",
       "        text-align: right;\n",
       "    }\n",
       "</style>\n",
       "<table border=\"1\" class=\"dataframe\">\n",
       "  <thead>\n",
       "    <tr style=\"text-align: right;\">\n",
       "      <th></th>\n",
       "      <th>Indicator</th>\n",
       "      <th>PUBLISH STATES</th>\n",
       "      <th>Year</th>\n",
       "      <th>WHO region</th>\n",
       "      <th>World Bank income group</th>\n",
       "      <th>Country</th>\n",
       "      <th>Sex</th>\n",
       "      <th>Display Value</th>\n",
       "      <th>Numeric</th>\n",
       "      <th>Low</th>\n",
       "      <th>High</th>\n",
       "      <th>Comments</th>\n",
       "    </tr>\n",
       "  </thead>\n",
       "  <tbody>\n",
       "    <tr>\n",
       "      <th>0</th>\n",
       "      <td>Life expectancy at birth (years)</td>\n",
       "      <td>Published</td>\n",
       "      <td>1990</td>\n",
       "      <td>Europe</td>\n",
       "      <td>High-income</td>\n",
       "      <td>Andorra</td>\n",
       "      <td>Both sexes</td>\n",
       "      <td>77</td>\n",
       "      <td>77.0</td>\n",
       "      <td>NaN</td>\n",
       "      <td>NaN</td>\n",
       "      <td>NaN</td>\n",
       "    </tr>\n",
       "    <tr>\n",
       "      <th>1</th>\n",
       "      <td>Life expectancy at birth (years)</td>\n",
       "      <td>Published</td>\n",
       "      <td>2000</td>\n",
       "      <td>Europe</td>\n",
       "      <td>High-income</td>\n",
       "      <td>Andorra</td>\n",
       "      <td>Both sexes</td>\n",
       "      <td>80</td>\n",
       "      <td>80.0</td>\n",
       "      <td>NaN</td>\n",
       "      <td>NaN</td>\n",
       "      <td>NaN</td>\n",
       "    </tr>\n",
       "    <tr>\n",
       "      <th>2</th>\n",
       "      <td>Life expectancy at age 60 (years)</td>\n",
       "      <td>Published</td>\n",
       "      <td>2012</td>\n",
       "      <td>Europe</td>\n",
       "      <td>High-income</td>\n",
       "      <td>Andorra</td>\n",
       "      <td>Female</td>\n",
       "      <td>28</td>\n",
       "      <td>28.0</td>\n",
       "      <td>NaN</td>\n",
       "      <td>NaN</td>\n",
       "      <td>NaN</td>\n",
       "    </tr>\n",
       "    <tr>\n",
       "      <th>3</th>\n",
       "      <td>Life expectancy at age 60 (years)</td>\n",
       "      <td>Published</td>\n",
       "      <td>2000</td>\n",
       "      <td>Europe</td>\n",
       "      <td>High-income</td>\n",
       "      <td>Andorra</td>\n",
       "      <td>Both sexes</td>\n",
       "      <td>23</td>\n",
       "      <td>23.0</td>\n",
       "      <td>NaN</td>\n",
       "      <td>NaN</td>\n",
       "      <td>NaN</td>\n",
       "    </tr>\n",
       "    <tr>\n",
       "      <th>4</th>\n",
       "      <td>Life expectancy at birth (years)</td>\n",
       "      <td>Published</td>\n",
       "      <td>2012</td>\n",
       "      <td>Eastern Mediterranean</td>\n",
       "      <td>High-income</td>\n",
       "      <td>United Arab Emirates</td>\n",
       "      <td>Female</td>\n",
       "      <td>78</td>\n",
       "      <td>78.0</td>\n",
       "      <td>NaN</td>\n",
       "      <td>NaN</td>\n",
       "      <td>NaN</td>\n",
       "    </tr>\n",
       "  </tbody>\n",
       "</table>\n",
       "</div>"
      ],
      "text/plain": [
       "                           Indicator PUBLISH STATES  Year  \\\n",
       "0   Life expectancy at birth (years)      Published  1990   \n",
       "1   Life expectancy at birth (years)      Published  2000   \n",
       "2  Life expectancy at age 60 (years)      Published  2012   \n",
       "3  Life expectancy at age 60 (years)      Published  2000   \n",
       "4   Life expectancy at birth (years)      Published  2012   \n",
       "\n",
       "              WHO region World Bank income group               Country  \\\n",
       "0                 Europe             High-income               Andorra   \n",
       "1                 Europe             High-income               Andorra   \n",
       "2                 Europe             High-income               Andorra   \n",
       "3                 Europe             High-income               Andorra   \n",
       "4  Eastern Mediterranean             High-income  United Arab Emirates   \n",
       "\n",
       "          Sex  Display Value  Numeric  Low  High  Comments  \n",
       "0  Both sexes             77     77.0  NaN   NaN       NaN  \n",
       "1  Both sexes             80     80.0  NaN   NaN       NaN  \n",
       "2      Female             28     28.0  NaN   NaN       NaN  \n",
       "3  Both sexes             23     23.0  NaN   NaN       NaN  \n",
       "4      Female             78     78.0  NaN   NaN       NaN  "
      ]
     },
     "execution_count": 5,
     "metadata": {},
     "output_type": "execute_result"
    }
   ],
   "source": [
    "wrangling.head()"
   ]
  },
  {
   "cell_type": "code",
   "execution_count": null,
   "metadata": {},
   "outputs": [],
   "source": []
  }
 ],
 "metadata": {
  "kernelspec": {
   "display_name": "Python 3",
   "language": "python",
   "name": "python3"
  },
  "language_info": {
   "codemirror_mode": {
    "name": "ipython",
    "version": 3
   },
   "file_extension": ".py",
   "mimetype": "text/x-python",
   "name": "python",
   "nbconvert_exporter": "python",
   "pygments_lexer": "ipython3",
   "version": "3.6.6"
  }
 },
 "nbformat": 4,
 "nbformat_minor": 4
}
